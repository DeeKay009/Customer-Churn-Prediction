{
 "cells": [
  {
   "cell_type": "code",
   "execution_count": 3,
   "id": "758e685c-5dcc-4edd-8ace-b06a91cbc960",
   "metadata": {},
   "outputs": [],
   "source": [
    "# CUSTOMER CHURN PREDICTION PROJECT\n",
    "# Author: Deepa K\n",
    "# ---- Step 1: Import Libraries ----\n",
    "import pandas as pd\n",
    "import numpy as np\n",
    "import matplotlib.pyplot as plt\n",
    "import seaborn as sns\n",
    "\n",
    "from sklearn.model_selection import train_test_split\n",
    "from sklearn.preprocessing import LabelEncoder, StandardScaler\n",
    "from sklearn.linear_model import LogisticRegression\n",
    "from sklearn.metrics import accuracy_score, confusion_matrix, classification_report, roc_auc_score, roc_curve\n"
   ]
  },
  {
   "cell_type": "code",
   "execution_count": 7,
   "id": "da5101ff-15a1-440c-af02-a148aef10e96",
   "metadata": {},
   "outputs": [],
   "source": [
    "# ---- Step 2: Load the Data ----\n",
    "df = pd.read_csv(\"/Users/deepa/Desktop/CustomerChurn/WA_Fn-UseC_-Telco-Customer-Churn.csv\")"
   ]
  },
  {
   "cell_type": "code",
   "execution_count": 12,
   "id": "67ea1ce6-3b9a-4912-8177-263f213f364f",
   "metadata": {},
   "outputs": [
    {
     "name": "stdout",
     "output_type": "stream",
     "text": [
      "\n",
      "❓ Missing values per column:\n",
      "customerID          0\n",
      "gender              0\n",
      "SeniorCitizen       0\n",
      "Partner             0\n",
      "Dependents          0\n",
      "tenure              0\n",
      "PhoneService        0\n",
      "MultipleLines       0\n",
      "InternetService     0\n",
      "OnlineSecurity      0\n",
      "OnlineBackup        0\n",
      "DeviceProtection    0\n",
      "TechSupport         0\n",
      "StreamingTV         0\n",
      "StreamingMovies     0\n",
      "Contract            0\n",
      "PaperlessBilling    0\n",
      "PaymentMethod       0\n",
      "MonthlyCharges      0\n",
      "TotalCharges        0\n",
      "Churn               0\n",
      "dtype: int64\n",
      "\n",
      "💡 Unique Churn Values: ['No' 'Yes']\n"
     ]
    }
   ],
   "source": [
    "# ---- Step 3: Inspect the Data ----\n",
    "\n",
    "# Display first 5 rows\n",
    "df.head()\n",
    "\n",
    "df.shape\n",
    "\n",
    "# Check for missing values\n",
    "print(\"\\n❓ Missing values per column:\")\n",
    "print(df.isnull().sum())\n",
    "\n",
    "# Check unique values in 'Churn' column\n",
    "print(\"\\n💡 Unique Churn Values:\", df['Churn'].unique())"
   ]
  },
  {
   "cell_type": "code",
   "execution_count": null,
   "id": "ebe0cf76-901d-4969-8526-cbe6216fc563",
   "metadata": {},
   "outputs": [],
   "source": []
  }
 ],
 "metadata": {
  "kernelspec": {
   "display_name": "Python 3 (ipykernel)",
   "language": "python",
   "name": "python3"
  },
  "language_info": {
   "codemirror_mode": {
    "name": "ipython",
    "version": 3
   },
   "file_extension": ".py",
   "mimetype": "text/x-python",
   "name": "python",
   "nbconvert_exporter": "python",
   "pygments_lexer": "ipython3",
   "version": "3.10.19"
  }
 },
 "nbformat": 4,
 "nbformat_minor": 5
}
